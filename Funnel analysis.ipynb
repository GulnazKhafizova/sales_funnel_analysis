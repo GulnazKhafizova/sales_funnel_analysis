{
 "cells": [
  {
   "cell_type": "markdown",
   "metadata": {},
   "source": [
    "# Гипотезы\n",
    "\n",
    "Нужно проверить:\n",
    "- Отличается ли время прохождения различных этапов для пользователей, которые прошли обучение, от пользователей, не начинавших обучение? \n",
    "Насколько обучение сокращает время прохождения этапов?\n",
    "- Существует ли зависимость между вероятностью оплаты тренировки и количеством обучений, которые начинал или завершал пользователь. \n",
    "Нужно доказать, что успешное обучение влияет на оплату само по себе, без разницы, какое оно было по порядку.\n",
    "- Как часто пользователи начинают обучение после того, как они выбрали уровень сложности тренировок? \n",
    "Это позволит нам понять, насколько процесс работы с приложением понятен для пользователей: если пользователи после выбора уровня сложности обращаются к обучению, значит, работа с приложением непонятна."
   ]
  },
  {
   "cell_type": "markdown",
   "metadata": {},
   "source": [
    "# Проверка гипотез\n",
    "\n",
    "Проверку будем производить на основе данных пользователей, которые зарегистрировались в 2018 году (с 1 января по 31 декабря 2018 года включительно).\n",
    "\n",
    "**Импортируем библиотеки**"
   ]
  },
  {
   "cell_type": "code",
   "execution_count": 1,
   "metadata": {},
   "outputs": [],
   "source": [
    "import pandas as pd \n",
    "import psycopg2\n",
    "import psycopg2.extras \n",
    "import numpy as np"
   ]
  },
  {
   "cell_type": "markdown",
   "metadata": {},
   "source": [
    "**Получаем данные из базы данных**"
   ]
  },
  {
   "cell_type": "code",
   "execution_count": 2,
   "metadata": {},
   "outputs": [],
   "source": [
    "def getEventsData():\n",
    "    query = '''SELECT e.* FROM case8.events e\n",
    "    WHERE e.user_id in\n",
    "    (SELECT DISTINCT(user_id) \n",
    "    FROM case8.events \n",
    "    WHERE event_type = 'registration' \n",
    "    AND start_time >= '2018-01-01'\n",
    "    AND start_time < '2019-01-01')\n",
    "    '''.format()\n",
    "    conn = psycopg2.connect(\"dbname='skillfactory' user='skillfactory' host='84.201.134.129' password='cCkxxLVrDE8EbvjueeMedPKt' port=5432\")\n",
    "    dict_cur = conn.cursor(cursor_factory=psycopg2.extras.DictCursor)\n",
    "    dict_cur.execute(query)\n",
    "    rows = dict_cur.fetchall()\n",
    "    data = []\n",
    "    for row in rows:\n",
    "        data.append(dict(row))\n",
    "    return data\n",
    "\n",
    "def getPurchaseData():\n",
    "    query = '''SELECT p.* FROM case8.purchase p\n",
    "    WHERE p.user_id in\n",
    "    (SELECT DISTINCT(user_id) \n",
    "    FROM case8.events \n",
    "    WHERE event_type = 'registration' \n",
    "    AND start_time >= '2018-01-01'\n",
    "    AND start_time < '2019-01-01')\n",
    "    '''.format()\n",
    "    conn = psycopg2.connect(\"dbname='skillfactory' user='skillfactory' host='84.201.134.129' password='cCkxxLVrDE8EbvjueeMedPKt' port=5432\")\n",
    "    dict_cur = conn.cursor(cursor_factory=psycopg2.extras.DictCursor)\n",
    "    dict_cur.execute(query)\n",
    "    rows = dict_cur.fetchall()\n",
    "    data = []\n",
    "    for row in rows:\n",
    "        data.append(dict(row))\n",
    "    return data\n",
    "\n",
    "events_df = pd.DataFrame(getEventsData())\n",
    "purchase_df = pd.DataFrame(getPurchaseData())"
   ]
  },
  {
   "cell_type": "markdown",
   "metadata": {},
   "source": [
    "**Произведем обзор данных и преобразование данных**"
   ]
  },
  {
   "cell_type": "code",
   "execution_count": 3,
   "metadata": {},
   "outputs": [],
   "source": [
    "events_df['start_time'] = pd.to_datetime(events_df['start_time'])\n",
    "purchase_df['start_time'] = pd.to_datetime(purchase_df['start_time'])"
   ]
  },
  {
   "cell_type": "code",
   "execution_count": 4,
   "metadata": {},
   "outputs": [],
   "source": [
    "purchase_df['event_type'] = 'purchase' #объединим датафрейм с событиями вместе с датафреймом по оплатам\n",
    "events_df = events_df.rename(columns={'id':'event_id'}) #переименуем колонки\n",
    "purchase_df = purchase_df.rename(columns={'id':'purchase_id'})\n",
    "total_events_df = pd.concat([events_df,purchase_df],sort=False) #запишем объединенный датафрейм в переменную total_events_df"
   ]
  },
  {
   "cell_type": "code",
   "execution_count": 5,
   "metadata": {},
   "outputs": [
    {
     "name": "stdout",
     "output_type": "stream",
     "text": [
      "Количество зарегистрировавшихся пользователей: 24460\n"
     ]
    }
   ],
   "source": [
    "# Зарегистрировавшиеся пользователи (все):\n",
    "all_users = total_events_df[total_events_df['event_type'] == 'registration']['user_id'].unique() \n",
    "print('Количество зарегистрировавшихся пользователей: {}'.format(len(all_users)))"
   ]
  },
  {
   "cell_type": "markdown",
   "metadata": {},
   "source": [
    "**Выделим группы пользователей по прохождению обучения**"
   ]
  },
  {
   "cell_type": "code",
   "execution_count": 6,
   "metadata": {},
   "outputs": [
    {
     "name": "stdout",
     "output_type": "stream",
     "text": [
      "Количество пользователей, начавших обучение: 14551\n",
      "Процент пользователей, начавших обучение (от общего числа зарегистрировавшихся): 59.49%\n",
      "Количество пользователей, завершивших обучение: 12531\n",
      "Процент пользователей, завершивших обучение (от общего числа зарегистрировавшихся): 51.23%\n",
      "Количество пользователей, не начинавших обучение: 9909\n",
      "Процент пользователей, не начинавших обучение (от общего числа зарегистрировавшихся): 40.51%\n"
     ]
    }
   ],
   "source": [
    "# Пользователи, которые начали обучение:\n",
    "users_with_started_tutorial = total_events_df[total_events_df['event_type'] == 'tutorial_start']['user_id'].unique()\n",
    "print('Количество пользователей, начавших обучение: {}'.format(len(users_with_started_tutorial)))\n",
    "percent_users_with_started_tutorial = len(users_with_started_tutorial) / len(all_users)\n",
    "print ('Процент пользователей, начавших обучение (от общего числа зарегистрировавшихся): {:.2%}'.format(percent_users_with_started_tutorial))\n",
    "\n",
    "# Пользователи, завершившие обучение:\n",
    "users_with_finished_tutorial = total_events_df[total_events_df['event_type'] == 'tutorial_finish']['user_id'].unique()\n",
    "print('Количество пользователей, завершивших обучение: {}'.format(len(users_with_finished_tutorial)))\n",
    "percent_users_with_finished_tutorial = len(users_with_finished_tutorial) / len(all_users)\n",
    "print ('Процент пользователей, завершивших обучение (от общего числа зарегистрировавшихся): {:.2%}'.format(percent_users_with_finished_tutorial))\n",
    "\n",
    "# Пользователи, не начинавшие обучение:\n",
    "# users_not_started_tutorial = set(all_users).difference(set(users_with_started_tutorial))\n",
    "users_not_started_tutorial = np.setxor1d(all_users, users_with_started_tutorial)\n",
    "print('Количество пользователей, не начинавших обучение: {}'.format(len(users_not_started_tutorial)))\n",
    "percent_users_not_started_tutorial = len(users_not_started_tutorial) / len(all_users)\n",
    "print ('Процент пользователей, не начинавших обучение (от общего числа зарегистрировавшихся): {:.2%}'.format(percent_users_not_started_tutorial))"
   ]
  },
  {
   "cell_type": "markdown",
   "metadata": {},
   "source": [
    "Далее будем рассматривать этапы событий для групп: \n",
    "- пользователи, завершившие обучение\n",
    "- пользователи, не начинавшие обучение"
   ]
  },
  {
   "cell_type": "markdown",
   "metadata": {},
   "source": [
    "Учитывая то, что регистрацию проходят все пользователи, а также что пользователи, не начинавшие обучение, сразу переходят к выбору уровня сложности бесплатных тренировок, тогда как пользователи, выбравшие обучение, будут доходить до этапа выбора уровня сложности некоторое количество времени, считаю нецелесообразным рассматривать определение времени между этапами регистрация и выбор уровня сложности бесплатных тренировок для указанных групп пользователей. Будем рассматривать дальнейшие этапы.\n",
    "\n",
    "## Анализ гипотезы 1\n",
    "\n",
    "\n",
    "**Определим отличается ли время прохождения между этапами выбора уровня сложности и выбора тренировок для пользователей, которые завершили обучение, и пользователей, не начинавших обучение:**"
   ]
  },
  {
   "cell_type": "code",
   "execution_count": 7,
   "metadata": {},
   "outputs": [
    {
     "name": "stdout",
     "output_type": "stream",
     "text": [
      "Среднее время между выбором уровня сложности и выбором тренировок для пользователей группы finished: 0 days 00:05:09.668813\n",
      "Характеристики времени:\n",
      "count                      6211\n",
      "mean     0 days 00:05:09.668813\n",
      "std      0 days 00:02:43.241217\n",
      "min             0 days 00:00:15\n",
      "25%             0 days 00:02:56\n",
      "50%             0 days 00:04:47\n",
      "75%             0 days 00:07:01\n",
      "max             0 days 00:15:35\n",
      "Name: timedelta, dtype: object\n",
      "Среднее время между выбором уровня сложности и выбором тренировок для пользователей группы notstarted: 0 days 00:05:31.077922\n",
      "Характеристики времени:\n",
      "count                        77\n",
      "mean     0 days 00:05:31.077922\n",
      "std      0 days 00:02:46.163027\n",
      "min             0 days 00:00:11\n",
      "25%             0 days 00:03:21\n",
      "50%             0 days 00:05:13\n",
      "75%             0 days 00:07:28\n",
      "max             0 days 00:11:49\n",
      "Name: timedelta, dtype: object\n"
     ]
    }
   ],
   "source": [
    "user_groups = [\n",
    "    {'finished': users_with_finished_tutorial},\n",
    "    {'notstarted': users_not_started_tutorial}\n",
    "]\n",
    "meantime_values = []\n",
    "for group in user_groups:\n",
    "    level = list(group.keys())[0]\n",
    "    group_users = group[level]\n",
    "    level_choice_df = total_events_df[(total_events_df['event_type'] == 'level_choice') \n",
    "                                      & (total_events_df['user_id'].isin(group_users))]\n",
    "    training_choice_df = total_events_df[(total_events_df['event_type'] == 'training_choice') \n",
    "                                         & (total_events_df['user_id'].isin(group_users))]\n",
    "    if (level_choice_df['user_id'].value_counts().mean()) == 1:\n",
    "        level_choice_df = level_choice_df[['user_id','start_time']].rename(columns={'start_time':'level_choice_time'})\n",
    "        training_choice_df = training_choice_df[['user_id','start_time']].rename(columns={'start_time':'training_choice_time'})\n",
    "        merged_df = training_choice_df.merge(level_choice_df,on='user_id',how='inner')\n",
    "        merged_df['timedelta'] = merged_df['training_choice_time'] - merged_df['level_choice_time']\n",
    "        mean_time = merged_df['timedelta'].mean()\n",
    "        meantime_values.append(mean_time)\n",
    "        print ('Среднее время между выбором уровня сложности и выбором тренировок для пользователей группы {}: {}'.format(level,mean_time))\n",
    "        print ('Характеристики времени:')\n",
    "        print (merged_df['timedelta'].describe())\n",
    "    else:\n",
    "        print ('Более 1 события выбора уровня сложности')"
   ]
  },
  {
   "cell_type": "markdown",
   "metadata": {},
   "source": [
    "**Определим отличается ли время прохождения между этапами выбора тренировок и оплаты для пользователей, которые завершили  обучение, и пользователей, не начинавших обучение:**"
   ]
  },
  {
   "cell_type": "code",
   "execution_count": 8,
   "metadata": {},
   "outputs": [
    {
     "name": "stdout",
     "output_type": "stream",
     "text": [
      "Среднее время между выбором тренировок и оплатой для пользователей группы finished: 3 days 16:59:07.005614\n",
      "Характеристики времени:\n",
      "count                      1781\n",
      "mean     3 days 16:59:07.005614\n",
      "std      2 days 03:37:52.042729\n",
      "min             0 days 01:31:41\n",
      "25%             1 days 22:51:29\n",
      "50%             3 days 12:22:50\n",
      "75%             5 days 06:56:21\n",
      "max            10 days 07:56:10\n",
      "Name: timedelta, dtype: object\n",
      "Среднее время между выбором тренировок и оплатой для пользователей группы notstarted: 3 days 23:07:16.111111\n",
      "Характеристики времени:\n",
      "count                        18\n",
      "mean     3 days 23:07:16.111111\n",
      "std      1 days 22:59:05.990710\n",
      "min             1 days 00:16:58\n",
      "25%             2 days 08:16:01\n",
      "50%      3 days 17:44:32.500000\n",
      "75%      5 days 07:25:03.750000\n",
      "max             8 days 08:24:25\n",
      "Name: timedelta, dtype: object\n"
     ]
    }
   ],
   "source": [
    "user_groups = [\n",
    "    {'finished': users_with_finished_tutorial},\n",
    "    {'notstarted': users_not_started_tutorial}\n",
    "]\n",
    "meantime_values1 = []\n",
    "for group in user_groups:\n",
    "    level = list(group.keys())[0]\n",
    "    group_users = group[level]\n",
    "    purchase_df_1 = purchase_df[purchase_df['user_id'].isin(group_users)]\n",
    "    training_choice_df = total_events_df[(total_events_df['event_type'] == 'training_choice') \n",
    "                                         & (total_events_df['user_id'].isin(group_users))]\n",
    "    if (training_choice_df['user_id'].value_counts().mean()) == 1:\n",
    "        training_choice_df2 = training_choice_df[['user_id','start_time']].rename(columns={'start_time':'training_choice_time'})\n",
    "        purchase_df_2 = purchase_df_1[['user_id','start_time']].rename(columns={'start_time':'purchase_time'})\n",
    "        merged_df_2 = purchase_df_2.merge(training_choice_df2,on='user_id',how='inner')\n",
    "        merged_df_2['timedelta'] = merged_df_2['purchase_time'] - merged_df_2['training_choice_time']\n",
    "        mean_time_2 = merged_df_2['timedelta'].mean()\n",
    "        meantime_values1.append(mean_time_2)\n",
    "        print ('Среднее время между выбором тренировок и оплатой для пользователей группы {}: {}'.format(level,mean_time_2))\n",
    "        print ('Характеристики времени:')\n",
    "        print (merged_df_2['timedelta'].describe())\n",
    "    else:\n",
    "        print ('Более 1 события выбора тренировок')"
   ]
  },
  {
   "cell_type": "code",
   "execution_count": 9,
   "metadata": {},
   "outputs": [],
   "source": [
    "# Подготовим данные для создания визуализации\n",
    "import datetime\n",
    "from datetime import datetime, timedelta\n",
    "dt_1 = meantime_values[0]/pd.Timedelta('1 s')\n",
    "dt_2 = meantime_values[1]/pd.Timedelta('1 s')\n",
    "\n",
    "dt_3 = meantime_values1[0]/pd.Timedelta('1 hour')\n",
    "dt_4 = meantime_values1[1]/pd.Timedelta('1 hour')\n",
    "\n",
    "avertime_df = pd.DataFrame([ [dt_1,dt_3], [dt_2,dt_4]],\n",
    "                  columns = ['change_level_training', 'change_training_purchase'], \n",
    "                  index = ['finished', 'notstarted'])"
   ]
  },
  {
   "cell_type": "markdown",
   "metadata": {},
   "source": [
    "## Выводы по 1 анализу:\n",
    "\n",
    "Среднее время между выбором уровня сложности и выбором тренировок для пользователей, завершивших обучение - 5 минут 9 сек.\n",
    "\n",
    "Среднее время между выбором уровня сложности и выбором тренировок для пользователей, не начинавших обучение - 5 минут 31 сек. \n",
    "\n",
    "Среднее время между выбором тренировок и оплатой для пользователей, завершивших обучение - 3 дня 16 часов 59 минут 7 сек. \n",
    "\n",
    "Среднее время между выбором тренировок и оплатой для пользователей, не начинавших обучение - 3 дня 23 часа 7 минут 16 сек.\n",
    "\n",
    "Как мы видим из расчетов, среднее время прохождения от этапа выбора уровня сложности бесплатных тренировок до выбора тренировок не зависит от того, прошли пользователи обучение или нет. Однако, пользователи, завершившие обучение, быстрее совершают оплаты по сравнению с пользователями, не начинавшими обучение. Среднее время прохождения от этапа выбора тренировок до оплаты сокращается на несколько часов (~ 6 часов)\n",
    "\n",
    "### Визуализация "
   ]
  },
  {
   "cell_type": "code",
   "execution_count": 10,
   "metadata": {},
   "outputs": [
    {
     "data": {
      "image/png": "[encoded data removed]",
      "text/plain": [
       "<Figure size 432x288 with 1 Axes>"
      ]
     },
     "metadata": {
      "needs_background": "light"
     },
     "output_type": "display_data"
    }
   ],
   "source": [
    "import matplotlib.pyplot as plt\n",
    "%matplotlib inline\n",
    "avertime_df = pd.DataFrame([[dt_1,dt_3], [dt_2,dt_4]],\n",
    "                  columns = ['change_level_training', 'change_training_purchase'], \n",
    "                  index = ['finished', 'notstarted'])\n",
    "plt.bar(avertime_df.index, avertime_df['change_level_training'], align='center', alpha=0.5)\n",
    "plt.xlabel('Группа пользователей')\n",
    "plt.ylabel('Среднее время, сек.')\n",
    "plt.title('Сравнение среднего времени между выбором уровня сложности и выбором тренировок для пользователей')\n",
    "\n",
    "plt.show()"
   ]
  },
  {
   "cell_type": "code",
   "execution_count": 11,
   "metadata": {},
   "outputs": [
    {
     "data": {
      "image/png": "[encoded data removed]",
      "text/plain": [
       "<Figure size 432x288 with 1 Axes>"
      ]
     },
     "metadata": {
      "needs_background": "light"
     },
     "output_type": "display_data"
    }
   ],
   "source": [
    "import matplotlib.pyplot as plt\n",
    "%matplotlib inline\n",
    "avertime_df = pd.DataFrame([[dt_1,dt_3], [dt_2,dt_4]],\n",
    "                  columns = ['change_level_training', 'change_training_purchase'], \n",
    "                  index = ['finished', 'notstarted'])\n",
    "plt.bar(avertime_df.index, avertime_df['change_training_purchase'], align='center', alpha=0.5)\n",
    "plt.xlabel('Группа пользователей')\n",
    "plt.ylabel('Среднее время, ч.')\n",
    "plt.title('Сравнение среднего времени между выбором тренировок и оплатой для пользователей')\n",
    "\n",
    "plt.show()"
   ]
  },
  {
   "cell_type": "markdown",
   "metadata": {},
   "source": [
    "## Анализ гипотезы 2\n",
    "\n",
    "**Существует ли зависимость между вероятностью оплаты тренировки и количеством обучений, которые начинал или завершал пользователь. Нужно доказать, что успешное обучение влияет на оплату само по себе, без разницы, какое оно было по порядку.**"
   ]
  },
  {
   "cell_type": "code",
   "execution_count": 12,
   "metadata": {},
   "outputs": [
    {
     "data": {
      "text/plain": [
       "1974"
      ]
     },
     "execution_count": 12,
     "metadata": {},
     "output_type": "execute_result"
    }
   ],
   "source": [
    "#Сделаем датафрейм purchase_df_3, в котором будут данные по оплатам всех пользователей:\n",
    "purchase_df_3 = purchase_df[purchase_df['user_id'].isin(all_users)]\n",
    "len(purchase_df_3) # количество оплативших пользователей (всего)"
   ]
  },
  {
   "cell_type": "code",
   "execution_count": 13,
   "metadata": {},
   "outputs": [
    {
     "name": "stdout",
     "output_type": "stream",
     "text": [
      "Процент завершивших обучение пользователей, оплативших тренировки (из числа всех оплативших пользователей): 90.22%\n"
     ]
    }
   ],
   "source": [
    "#Сделаем датафрейм purchase_df_4, в котором будут данные по оплатам пользователей, которые завершили обучение:\n",
    "purchase_df_4 = purchase_df[purchase_df['user_id'].isin(users_with_finished_tutorial)]\n",
    "\n",
    "# Найдем процент завершивших обучение пользователей, оплативших тренировки из числа всех оплативших пользователей:\n",
    "percent_of_purchase_4 = purchase_df_4['user_id'].nunique()/len(purchase_df_3)\n",
    "print ('Процент завершивших обучение пользователей, оплативших тренировки (из числа всех оплативших пользователей): {:.2%}'.format(percent_of_purchase_4))"
   ]
  },
  {
   "cell_type": "code",
   "execution_count": 14,
   "metadata": {},
   "outputs": [
    {
     "name": "stdout",
     "output_type": "stream",
     "text": [
      "Процент начавших обучение пользователей, оплативших тренировки (из числа всех оплативших пользователей): 99.09%\n"
     ]
    }
   ],
   "source": [
    "#Сделаем датафрейм purchase_df_5, в котором будут данные по оплатам пользователей, которые начали обучение:\n",
    "purchase_df_5 = purchase_df[purchase_df['user_id'].isin(users_with_started_tutorial)]\n",
    "\n",
    "# Найдем процент начавших обучение пользователей, оплативших тренировки, из числа всех оплативших пользователей:\n",
    "percent_of_purchase_5 = purchase_df_5['user_id'].nunique()/len(purchase_df_3)\n",
    "print ('Процент начавших обучение пользователей, оплативших тренировки (из числа всех оплативших пользователей): {:.2%}'.format(percent_of_purchase_5))"
   ]
  },
  {
   "cell_type": "markdown",
   "metadata": {},
   "source": [
    "Найдем какое количество обучений прошли пользователи"
   ]
  },
  {
   "cell_type": "code",
   "execution_count": 15,
   "metadata": {},
   "outputs": [],
   "source": [
    "# Объединяем датафреймы для начавших обучение и завершивших обучение пользователей:\n",
    "union_df = pd.concat([purchase_df_4,purchase_df_5], ignore_index=True)['user_id'].unique() "
   ]
  },
  {
   "cell_type": "code",
   "execution_count": 16,
   "metadata": {},
   "outputs": [
    {
     "data": {
      "text/plain": [
       "49726    18\n",
       "62844    18\n",
       "57184    18\n",
       "51717    18\n",
       "67994    18\n",
       "         ..\n",
       "55777     1\n",
       "59871     1\n",
       "58281     1\n",
       "60286     1\n",
       "67585     1\n",
       "Name: user_id, Length: 1956, dtype: int64"
      ]
     },
     "execution_count": 16,
     "metadata": {},
     "output_type": "execute_result"
    }
   ],
   "source": [
    "# Выделим какое количество раз пользователи начали обучение и какое количество раз закончили обучение (вместе)\n",
    "tmp_df = events_df[events_df['user_id'].isin(union_df)] \n",
    "tmp_df[(tmp_df['event_type'] == 'tutorial_start') | (tmp_df['event_type'] == 'tutorial_finish')]['user_id'].value_counts()"
   ]
  },
  {
   "cell_type": "code",
   "execution_count": 17,
   "metadata": {},
   "outputs": [
    {
     "name": "stdout",
     "output_type": "stream",
     "text": [
      "      user_id  count\n",
      "0       51717      9\n",
      "1       62844      9\n",
      "2       57184      9\n",
      "3       67994      9\n",
      "4       49726      9\n",
      "...       ...    ...\n",
      "1776    72188      1\n",
      "1777    59785      1\n",
      "1778    61253      1\n",
      "1779    49671      1\n",
      "1780    71681      1\n",
      "\n",
      "[1781 rows x 2 columns]\n",
      "1781\n"
     ]
    }
   ],
   "source": [
    "# Посмотрим какое количество раз пользователи закончили обучение: \n",
    "t_df = tmp_df[(tmp_df['event_type'] == 'tutorial_finish')]['user_id'].value_counts()\n",
    "t_df_new = pd.DataFrame({'user_id':t_df.index, 'count':t_df.values})\n",
    "print(t_df_new)\n",
    "users_t_df = tmp_df[(tmp_df['event_type'] == 'tutorial_finish')]['user_id'].unique()\n",
    "print(len(users_t_df))"
   ]
  },
  {
   "cell_type": "markdown",
   "metadata": {},
   "source": [
    "Таким образом, пользователи проходили обучение от 1 до 9 раз.\n",
    "\n",
    "Разделим закончивших обучение пользователей на группы (по количеству раз обучений) и для каждой найдем количество пользователей и проверим наличие события оплаты:"
   ]
  },
  {
   "cell_type": "code",
   "execution_count": 18,
   "metadata": {},
   "outputs": [
    {
     "name": "stdout",
     "output_type": "stream",
     "text": [
      "Количество пользователей, прошедших обучение 1 раз: 1366\n",
      "Количество событий оплаты среди прошедших обучение 1 раз: 1366\n",
      "Процент оплаты среди прошедших обучение 1 раз (из числа всех оплативших закончивших обучение пользователей): 76.70%\n",
      "Количество пользователей, прошедших обучение 2 раз: 235\n",
      "Количество событий оплаты среди прошедших обучение 2 раз: 235\n",
      "Процент оплаты среди прошедших обучение 2 раз (из числа всех оплативших закончивших обучение пользователей): 13.19%\n",
      "Количество пользователей, прошедших обучение 3 раз: 68\n",
      "Количество событий оплаты среди прошедших обучение 3 раз: 68\n",
      "Процент оплаты среди прошедших обучение 3 раз (из числа всех оплативших закончивших обучение пользователей): 3.82%\n",
      "Количество пользователей, прошедших обучение 4 раз: 34\n",
      "Количество событий оплаты среди прошедших обучение 4 раз: 34\n",
      "Процент оплаты среди прошедших обучение 4 раз (из числа всех оплативших закончивших обучение пользователей): 1.91%\n",
      "Количество пользователей, прошедших обучение 5 раз: 22\n",
      "Количество событий оплаты среди прошедших обучение 5 раз: 22\n",
      "Процент оплаты среди прошедших обучение 5 раз (из числа всех оплативших закончивших обучение пользователей): 1.24%\n",
      "Количество пользователей, прошедших обучение 6 раз: 25\n",
      "Количество событий оплаты среди прошедших обучение 6 раз: 25\n",
      "Процент оплаты среди прошедших обучение 6 раз (из числа всех оплативших закончивших обучение пользователей): 1.40%\n",
      "Количество пользователей, прошедших обучение 7 раз: 16\n",
      "Количество событий оплаты среди прошедших обучение 7 раз: 16\n",
      "Процент оплаты среди прошедших обучение 7 раз (из числа всех оплативших закончивших обучение пользователей): 0.90%\n",
      "Количество пользователей, прошедших обучение 8 раз: 10\n",
      "Количество событий оплаты среди прошедших обучение 8 раз: 10\n",
      "Процент оплаты среди прошедших обучение 8 раз (из числа всех оплативших закончивших обучение пользователей): 0.56%\n",
      "Количество пользователей, прошедших обучение 9 раз: 5\n",
      "Количество событий оплаты среди прошедших обучение 9 раз: 5\n",
      "Процент оплаты среди прошедших обучение 9 раз (из числа всех оплативших закончивших обучение пользователей): 0.28%\n"
     ]
    }
   ],
   "source": [
    "groups = {}\n",
    "for i in range(1, 10):\n",
    "    users_group = t_df_new[t_df_new['count'] == i]['user_id'].unique()\n",
    "    print('Количество пользователей, прошедших обучение {0} раз: {1}'.format(i, len(users_group)))\n",
    "    # Проверяем наличие события оплаты в каждой группе:\n",
    "    purchase_group1 = purchase_df[purchase_df['user_id'].isin(users_group)][['user_id','amount']]\n",
    "    print('Количество событий оплаты среди прошедших обучение {0} раз: {1}'.format(i, len(purchase_group1)))\n",
    "    percent_purchase_group1 = len(purchase_group1)/len(users_t_df)\n",
    "    print('Процент оплаты среди прошедших обучение {0} раз (из числа всех оплативших закончивших обучение пользователей): {1:.2%}'.format(i, percent_purchase_group1))\n",
    "    groups[i] = percent_purchase_group1"
   ]
  },
  {
   "cell_type": "markdown",
   "metadata": {},
   "source": [
    "Таким образом, в каждой группе пользователей, завершивших обучение, содержится событие оплаты, т.е. все пользователи оплачивают обучение."
   ]
  },
  {
   "cell_type": "markdown",
   "metadata": {},
   "source": [
    "## Вывод по 2 анализу:\n",
    "\n",
    "Процент завершивших обучение пользователей, оплативших тренировки (из числа всех оплативших пользователей): **90.22%**\n",
    "\n",
    "Среди пользователей завершивших обучение, т.е. успешно окончивших обучение, существуют пользователи, которые несколько раз начинали/завершали обучение. \n",
    "Анализ данных показал, что независимо от того, сколько раз пользователь проходил обучение, если он прошел обучение успешно (завершил его), в дальнейшем он совершает оплату тренировок.\n",
    "\n",
    "### Визуализация"
   ]
  },
  {
   "cell_type": "code",
   "execution_count": 19,
   "metadata": {},
   "outputs": [
    {
     "data": {
      "image/png": "[encoded data removed]",
      "text/plain": [
       "<Figure size 432x288 with 1 Axes>"
      ]
     },
     "metadata": {},
     "output_type": "display_data"
    }
   ],
   "source": [
    "labels = groups.keys()\n",
    "sizes = groups.values()\n",
    "\n",
    "fig1, ax1 = plt.subplots()\n",
    "ax1.pie(sizes, labels=labels, autopct='%1.1f%%',\n",
    "        shadow=True, startangle=90)\n",
    "ax1.axis('equal')  \n",
    "plt.title('Процент оплаты для групп пользователей в зависимости от количества законченных обучений')\n",
    "plt.show()"
   ]
  },
  {
   "cell_type": "markdown",
   "metadata": {},
   "source": [
    "## Анализ гипотезы 3"
   ]
  },
  {
   "cell_type": "markdown",
   "metadata": {},
   "source": [
    "**Как часто пользователи начинают обучение после того, как они выбрали уровень сложности тренировок? \n",
    "Это позволит нам понять, насколько процесс работы с приложением понятен для пользователей: если пользователи после выбора уровня сложности обращаются к обучению, значит, работа с приложением непонятна.**"
   ]
  },
  {
   "cell_type": "code",
   "execution_count": 20,
   "metadata": {},
   "outputs": [
    {
     "name": "stdout",
     "output_type": "stream",
     "text": [
      "Количество событий по началу обучения и выбору уровня сложности тренировок: 32795\n"
     ]
    }
   ],
   "source": [
    "#Создадим датафрейм, в котором будут данные по событиям начала обучения и выбора уровня сложности тренировок:\n",
    "events_level_choice_tutorstart_df = total_events_df[(total_events_df['event_type'] == 'level_choice') | (total_events_df['event_type'] == 'tutorial_start')]\n",
    "print('Количество событий по началу обучения и выбору уровня сложности тренировок: {}'.format(len(events_level_choice_tutorstart_df)))"
   ]
  },
  {
   "cell_type": "code",
   "execution_count": 21,
   "metadata": {},
   "outputs": [
    {
     "data": {
      "text/plain": [
       "14658"
      ]
     },
     "execution_count": 21,
     "metadata": {},
     "output_type": "execute_result"
    }
   ],
   "source": [
    "users_from_df = events_level_choice_tutorstart_df['user_id'].unique() #найдем количество пользователей в датафрейме events_level_choice_tutorstart_df\n",
    "len(users_from_df)"
   ]
  },
  {
   "cell_type": "code",
   "execution_count": 22,
   "metadata": {},
   "outputs": [
    {
     "name": "stderr",
     "output_type": "stream",
     "text": [
      "D:\\Utils\\Anaconda\\lib\\site-packages\\ipykernel_launcher.py:1: SettingWithCopyWarning: \n",
      "A value is trying to be set on a copy of a slice from a DataFrame\n",
      "\n",
      "See the caveats in the documentation: https://pandas.pydata.org/pandas-docs/stable/user_guide/indexing.html#returning-a-view-versus-a-copy\n",
      "  \"\"\"Entry point for launching an IPython kernel.\n"
     ]
    }
   ],
   "source": [
    "events_level_choice_tutorstart_df.sort_values(by=['user_id','start_time'], inplace=True) #отсортируем данные в датафрейме"
   ]
  },
  {
   "cell_type": "code",
   "execution_count": 23,
   "metadata": {},
   "outputs": [
    {
     "name": "stdout",
     "output_type": "stream",
     "text": [
      "Количество пользователей, которые сначала выбрали уровень сложности тренировки и затем начали обучение: 1769\n"
     ]
    }
   ],
   "source": [
    "# Найдем количество пользователей, которые сначала выбрали уровень сложности тренировки и затем начали обучение:\n",
    "\n",
    "counter_user = set()\n",
    "user_id = None\n",
    "event_type = None\n",
    "\n",
    "for index, row in events_level_choice_tutorstart_df.iterrows():\n",
    "    if user_id != row['user_id']:\n",
    "        user_id = row['user_id']\n",
    "        event_type = row['event_type']\n",
    "    else:\n",
    "        if (event_type != row['event_type'] \n",
    "            and event_type == 'level_choice'):\n",
    "            counter_user.add(user_id)\n",
    "        else:\n",
    "            event_type = row['event_type'] \n",
    "print('Количество пользователей, которые сначала выбрали уровень сложности тренировки и затем начали обучение: {}'.format(len(counter_user)))"
   ]
  },
  {
   "cell_type": "code",
   "execution_count": 24,
   "metadata": {},
   "outputs": [
    {
     "name": "stdout",
     "output_type": "stream",
     "text": [
      "Процент пользователей, которые сначала выбрали уровень сложности тренировки и затем начали обучение (из числа пользователей, которые начали обучение и выбрали уровень тренировки): 12.07%\n"
     ]
    }
   ],
   "source": [
    "percent_of_users_selected_level_firstly = len(counter_user) / len(users_from_df)\n",
    "print ('Процент пользователей, которые сначала выбрали уровень сложности тренировки и затем начали обучение (из числа пользователей, которые начали обучение и выбрали уровень тренировки): {:.2%}'.format(percent_of_users_selected_level_firstly))"
   ]
  },
  {
   "cell_type": "markdown",
   "metadata": {},
   "source": [
    "## Вывод по 3 анализу:\n",
    "\n",
    "Таким образом, мы выяснили, что доля пользователей, которые начинают обучение после того, как они выбрали уровень сложности тренировок (независимо от того, выбрали они уровень тренировки сразу после регистрации и затем приступили к обучению либо прошли обучение, выбрали уровень тренировок и снова начали обучение) составляет **12,07%** из числа пользователей, прошедших этапы обучения и выбора уровня сложности тренировок. \n",
    "    \n",
    "Это позволяет нам считать, что для 12,07% пользователей процесс работы с приложением непонятен."
   ]
  }
 ],
 "metadata": {
  "kernelspec": {
   "display_name": "Python 3",
   "language": "python",
   "name": "python3"
  },
  "language_info": {
   "codemirror_mode": {
    "name": "ipython",
    "version": 3
   },
   "file_extension": ".py",
   "mimetype": "text/x-python",
   "name": "python",
   "nbconvert_exporter": "python",
   "pygments_lexer": "ipython3",
   "version": "3.7.6"
  }
 },
 "nbformat": 4,
 "nbformat_minor": 4
}
